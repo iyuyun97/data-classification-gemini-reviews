{
  "nbformat": 4,
  "nbformat_minor": 0,
  "metadata": {
    "colab": {
      "private_outputs": true,
      "provenance": []
    },
    "kernelspec": {
      "name": "python3",
      "display_name": "Python 3"
    },
    "language_info": {
      "name": "python"
    }
  },
  "cells": [
    {
      "cell_type": "markdown",
      "source": [
        "### **Setup environment & Gemini API**"
      ],
      "metadata": {
        "id": "kslnLoDsB3UY"
      }
    },
    {
      "cell_type": "code",
      "execution_count": null,
      "metadata": {
        "id": "Zd6j4XLF_-jh"
      },
      "outputs": [],
      "source": [
        "!pip install google-generativeai pandas matplotlib wordcloud --quiet"
      ]
    },
    {
      "cell_type": "code",
      "source": [
        "import google.generativeai as genai\n",
        "import pandas as pd\n",
        "import matplotlib.pyplot as plt\n",
        "from wordcloud import WordCloud\n",
        "from google.colab import userdata, files  # <- tambah files untuk download\n",
        "import re, csv\n",
        "\n",
        "# Ambil API key dari Colab secret\n",
        "API_KEY = userdata.get('api_token2')\n",
        "if not API_KEY:\n",
        "    raise ValueError(\"❌ API Key tidak ditemukan di Colab userdata. Simpan dulu dengan userdata.set('api_token2', 'YOUR_KEY')\")\n",
        "\n",
        "# Konfigurasi Gemini API\n",
        "genai.configure(api_key=API_KEY)\n",
        "model = genai.GenerativeModel(\"gemini-1.5-flash\")\n",
        "print(\"✅ Environment siap digunakan (Google Gemini API)\")"
      ],
      "metadata": {
        "id": "_p3SUlSLAOaJ"
      },
      "execution_count": null,
      "outputs": []
    },
    {
      "cell_type": "markdown",
      "source": [
        "### **Load dataset**"
      ],
      "metadata": {
        "id": "v4h-ZARcCSuE"
      }
    },
    {
      "cell_type": "code",
      "source": [
        "dataset_path = \"/content/Amazon_Unlocked_Mobile2.csv\"  # Pastikan file sudah diupload\n",
        "\n",
        "try:\n",
        "    df = pd.read_csv(dataset_path, on_bad_lines='skip', quoting=csv.QUOTE_NONE, encoding='utf-8')\n",
        "    print(f\"✅ Dataset berhasil dimuat. Jumlah data: {len(df)}\")\n",
        "except Exception as e:\n",
        "    raise RuntimeError(f\"❌ Gagal membaca CSV: {e}\")\n",
        "\n",
        "print(\"Kolom dataset:\", df.columns.tolist())\n",
        "\n",
        "# Cleaning data\n",
        "if 'Reviews' not in df.columns:\n",
        "    raise ValueError(\"❌ Kolom 'Reviews' tidak ditemukan di dataset.\")\n",
        "\n",
        "df = df.dropna(subset=['Reviews'])\n",
        "df['Reviews'] = df['Reviews'].astype(str).str.strip()\n",
        "\n",
        "# Ambil sample 20 data\n",
        "sample_df = df.sample(min(20, len(df)), random_state=42).reset_index(drop=True)\n",
        "print(\"\\nContoh Reviews:\")\n",
        "print(sample_df['Reviews'].head())"
      ],
      "metadata": {
        "id": "QeWaLDQ_Csuj"
      },
      "execution_count": null,
      "outputs": []
    },
    {
      "cell_type": "markdown",
      "source": [
        "### **Initial Sentiment Check**"
      ],
      "metadata": {
        "id": "uWQauhu6CZpY"
      }
    },
    {
      "cell_type": "code",
      "source": [
        "reviews_text = \"\\n\".join([f\"Review {i+1}: {review}\" for i, review in enumerate(sample_df['Reviews'])])\n",
        "\n",
        "prompt_initial = f\"\"\"\n",
        "Classify these reviews as Positive, Negative, or Mixed:\n",
        "\n",
        "{reviews_text}\n",
        "\"\"\"\n",
        "response_initial = model.generate_content(prompt_initial)\n",
        "print(\"\\n>> Initial Response:\\n\", response_initial.text)"
      ],
      "metadata": {
        "id": "LEgHu2acG6pq"
      },
      "execution_count": null,
      "outputs": []
    },
    {
      "cell_type": "markdown",
      "source": [
        "### **Request Markdown Table**"
      ],
      "metadata": {
        "id": "ENSylyWXCgH6"
      }
    },
    {
      "cell_type": "code",
      "source": [
        "prompt_table = f\"\"\"\n",
        "Classify these reviews as Positive, Negative, or Mixed, and tag relevant categories.\n",
        "Return the output as a Markdown table with the following columns:\n",
        "| Review # | Sentiment | Categories |\n",
        "\n",
        "Example:\n",
        "| Review # | Sentiment | Categories |\n",
        "| 1 | Positive | Battery Life, Performance |\n",
        "\n",
        "Here are the reviews:\n",
        "{reviews_text}\n",
        "\"\"\"\n",
        "response_table = model.generate_content(prompt_table)\n",
        "print(\"\\n>> Gemini Model Table Output:\\n\", response_table.text)"
      ],
      "metadata": {
        "id": "SZrVfBl5HcD8"
      },
      "execution_count": null,
      "outputs": []
    },
    {
      "cell_type": "markdown",
      "source": [
        "### **Parse Table (robust)**"
      ],
      "metadata": {
        "id": "LpMMTqXnCkpq"
      }
    },
    {
      "cell_type": "code",
      "source": [
        "def parse_table_response(response_text, expected_rows):\n",
        "    \"\"\"Parse Markdown table dari Gemini ke DataFrame\"\"\"\n",
        "    table_text = []\n",
        "    start_table = False\n",
        "    for line in response_text.splitlines():\n",
        "        if line.strip().startswith(\"|\"):\n",
        "            start_table = True\n",
        "        if start_table:\n",
        "            table_text.append(line)\n",
        "\n",
        "    if not table_text:\n",
        "        return None\n",
        "\n",
        "    clean_lines = [line for line in table_text if not re.match(r'^\\|\\s*-', line.strip())]\n",
        "\n",
        "    rows = []\n",
        "    for line in clean_lines:\n",
        "        parts = [col.strip() for col in re.split(r'\\s*\\|\\s*', line.strip())[1:-1]]\n",
        "        if len(parts) >= 3:\n",
        "            rows.append(parts)\n",
        "\n",
        "    if len(rows) < 2:\n",
        "        return None\n",
        "\n",
        "    header = rows[0]\n",
        "    data = rows[1:]\n",
        "    max_cols = len(header)\n",
        "    data_fixed = [row[:max_cols] if len(row) >= max_cols else row + [\"\"]*(max_cols-len(row)) for row in data]\n",
        "\n",
        "    return pd.DataFrame(data_fixed, columns=header)\n",
        "\n",
        "\n",
        "df_table = parse_table_response(response_table.text, len(sample_df))\n",
        "\n",
        "if df_table is None:\n",
        "    print(\"⚠️ Model tidak mengembalikan tabel. Meminta ulang...\")\n",
        "    retry_prompt = f\"\"\"\n",
        "    STRICT INSTRUCTION: Only return a Markdown table.\n",
        "    Classify the following reviews as Positive, Negative, or Mixed, and include Categories.\n",
        "    Do not add extra explanation, only the table.\n",
        "    | Review # | Sentiment | Categories |\n",
        "\n",
        "    {reviews_text}\n",
        "    \"\"\"\n",
        "    retry_response = model.generate_content(retry_prompt)\n",
        "    df_table = parse_table_response(retry_response.text, len(sample_df))\n",
        "\n",
        "    if df_table is None:\n",
        "        raise ValueError(\"❌ Gagal parsing tabel dari Gemini meskipun sudah retry.\")\n",
        "\n",
        "print(\"\\n✅ DataFrame hasil parsing tabel:\")\n",
        "print(df_table.head())\n",
        "\n",
        "df_table.to_csv(\"classification_results_table.csv\", index=False)\n",
        "print(\"💾 Disimpan ke classification_results_table.csv\")"
      ],
      "metadata": {
        "id": "NPdyHEjJLTA1"
      },
      "execution_count": null,
      "outputs": []
    },
    {
      "cell_type": "markdown",
      "source": [
        "### **Visualisasi Sentiment**"
      ],
      "metadata": {
        "id": "xtIDkmxTCr9v"
      }
    },
    {
      "cell_type": "code",
      "source": [
        "df_table.columns = [col.strip() for col in df_table.columns]\n",
        "df_table['Sentiment'] = df_table['Sentiment'].str.strip().str.capitalize()\n",
        "\n",
        "sentiment_counts = df_table['Sentiment'].value_counts()\n",
        "\n",
        "# Pie Chart\n",
        "plt.figure(figsize=(6, 6))\n",
        "plt.pie(sentiment_counts, labels=sentiment_counts.index, autopct='%1.1f%%', startangle=140)\n",
        "plt.title(\"Distribusi Sentiment Review\")\n",
        "plt.savefig(\"sentiment_pie.png\")  # <- simpan untuk download\n",
        "plt.show()\n",
        "\n",
        "# Bar Chart\n",
        "plt.figure(figsize=(6, 4))\n",
        "sentiment_counts.plot(kind='bar')\n",
        "plt.ylabel(\"Jumlah Review\")\n",
        "plt.title(\"Jumlah Review per Sentiment\")\n",
        "plt.xticks(rotation=0)\n",
        "plt.savefig(\"sentiment_bar.png\")  # <- simpan untuk download\n",
        "plt.show()\n",
        "\n",
        "print(\"\\n📊 Visualisasi selesai.\")"
      ],
      "metadata": {
        "id": "IacwQX7cOFZl"
      },
      "execution_count": null,
      "outputs": []
    },
    {
      "cell_type": "markdown",
      "source": [
        "### **Merge & Insight**"
      ],
      "metadata": {
        "id": "0RfuVX-MCxaT"
      }
    },
    {
      "cell_type": "code",
      "source": [
        "min_len = min(len(sample_df), len(df_table))\n",
        "merged_df = sample_df.iloc[:min_len].copy()\n",
        "merged_df['Sentiment']  = df_table['Sentiment'].iloc[:min_len].values\n",
        "merged_df['Categories'] = df_table['Categories'].iloc[:min_len].values\n",
        "\n",
        "print(\"\\n✅ merged_df:\")\n",
        "print(merged_df.head())\n",
        "\n",
        "positive_reviews = merged_df.loc[merged_df['Sentiment'] == 'Positive', 'Reviews'].tolist()\n",
        "negative_reviews = merged_df.loc[merged_df['Sentiment'] == 'Negative', 'Reviews'].tolist()\n",
        "mixed_reviews    = merged_df.loc[merged_df['Sentiment'] == 'Mixed', 'Reviews'].tolist()\n",
        "\n",
        "insight_prompt = f\"\"\"\n",
        "You are a data analyst. I have classified customer reviews into Positive, Negative, and Mixed.\n",
        "Now provide a summary with the following sections:\n",
        "1. Overall Sentiment Summary (brief percentage breakdown)\n",
        "2. Key Positive Themes\n",
        "3. Key Negative Themes\n",
        "4. Recommendations for improvement\n",
        "\n",
        "Positive reviews:\n",
        "{positive_reviews}\n",
        "\n",
        "Negative reviews:\n",
        "{negative_reviews}\n",
        "\n",
        "Mixed reviews:\n",
        "{mixed_reviews}\n",
        "\"\"\"\n",
        "response_insight = model.generate_content(insight_prompt)\n",
        "print(\"\\n>> Insight & Recommendations:\\n\", response_insight.text)\n",
        "\n",
        "with open(\"sentiment_insight.txt\", \"w\", encoding=\"utf-8\") as f:\n",
        "    f.write(response_insight.text)\n",
        "print(\"💾 Insight disimpan ke sentiment_insight.txt\")"
      ],
      "metadata": {
        "id": "Gi_j1l5GOOwW"
      },
      "execution_count": null,
      "outputs": []
    },
    {
      "cell_type": "markdown",
      "source": [
        "### **WordCloud**"
      ],
      "metadata": {
        "id": "KqqquRmcC2nM"
      }
    },
    {
      "cell_type": "code",
      "source": [
        "positive_text = \" \".join(positive_reviews) if positive_reviews else \"\"\n",
        "negative_text = \" \".join(negative_reviews) if negative_reviews else \"\"\n",
        "\n",
        "if positive_text.strip():\n",
        "    wc_pos = WordCloud(width=800, height=400, background_color=\"white\", colormap=\"Greens\").generate(positive_text)\n",
        "    plt.figure(figsize=(10, 5))\n",
        "    plt.imshow(wc_pos, interpolation=\"bilinear\")\n",
        "    plt.axis(\"off\")\n",
        "    plt.title(\"🌟 WordCloud - Positive Reviews\")\n",
        "    plt.savefig(\"wordcloud_positive.png\")  # <- simpan file\n",
        "    plt.show()\n",
        "else:\n",
        "    print(\"⚠️ Tidak ada review positif untuk WordCloud.\")\n",
        "\n",
        "if negative_text.strip():\n",
        "    wc_neg = WordCloud(width=800, height=400, background_color=\"white\", colormap=\"Reds\").generate(negative_text)\n",
        "    plt.figure(figsize=(10, 5))\n",
        "    plt.imshow(wc_neg, interpolation=\"bilinear\")\n",
        "    plt.axis(\"off\")\n",
        "    plt.title(\"⚠️ WordCloud - Negative Reviews\")\n",
        "    plt.savefig(\"wordcloud_negative.png\")  # <- simpan file\n",
        "    plt.show()\n",
        "else:\n",
        "    print(\"⚠️ Tidak ada review negatif untuk WordCloud.\")"
      ],
      "metadata": {
        "id": "HYuUz5UVy2ju"
      },
      "execution_count": null,
      "outputs": []
    },
    {
      "cell_type": "markdown",
      "source": [
        "### **Download Files**"
      ],
      "metadata": {
        "id": "aC5lMhMYC_Ym"
      }
    },
    {
      "cell_type": "code",
      "source": [
        "print(\"\\n📂 Menyiapkan file untuk download...\")\n",
        "\n",
        "files.download(\"classification_results_table.csv\")\n",
        "files.download(\"sentiment_insight.txt\")\n",
        "files.download(\"sentiment_pie.png\")\n",
        "files.download(\"sentiment_bar.png\")\n",
        "\n",
        "if positive_text.strip():\n",
        "    files.download(\"wordcloud_positive.png\")\n",
        "if negative_text.strip():\n",
        "    files.download(\"wordcloud_negative.png\")"
      ],
      "metadata": {
        "id": "ShZDnqzRAKoe"
      },
      "execution_count": null,
      "outputs": []
    }
  ]
}